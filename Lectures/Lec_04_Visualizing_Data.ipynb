{
 "cells": [
  {
   "cell_type": "markdown",
   "metadata": {
    "slideshow": {
     "slide_type": "slide"
    }
   },
   "source": [
    "# Geospatial Data Science - EEPS 440/460\n",
    "\n",
    "# Lecture 4\n",
    "\n",
    "# Visualizing Data"
   ]
  },
  {
   "cell_type": "markdown",
   "metadata": {
    "slideshow": {
     "slide_type": "slide"
    }
   },
   "source": [
    "![image.png](https://matplotlib.org/_static/logo2.png)"
   ]
  },
  {
   "cell_type": "markdown",
   "metadata": {
    "slideshow": {
     "slide_type": "slide"
    }
   },
   "source": [
    "The following Matplotlib lecture is adapted from the Scipy lecture notes (https://scipy-lectures.org/) and the official Matplolib tutorials (https://matplotlib.org/tutorials). For more information, I encourage you to check out these resources."
   ]
  },
  {
   "cell_type": "markdown",
   "metadata": {
    "slideshow": {
     "slide_type": "slide"
    }
   },
   "source": [
    "Matplotlib is the primary tool for exploratory and publication-quality graphs in Python. Becoming experts in Numpy + Matplotlib will take you far."
   ]
  },
  {
   "cell_type": "markdown",
   "metadata": {
    "slideshow": {
     "slide_type": "slide"
    }
   },
   "source": [
    "## Getting started"
   ]
  },
  {
   "cell_type": "markdown",
   "metadata": {
    "slideshow": {
     "slide_type": "-"
    }
   },
   "source": [
    "When running matplotlib in a Jupyter notebook, we use cell magic to tell matplotlib to show the created figures within the notebook. "
   ]
  },
  {
   "cell_type": "code",
   "execution_count": 1,
   "metadata": {},
   "outputs": [],
   "source": [
    "%matplotlib inline"
   ]
  },
  {
   "cell_type": "markdown",
   "metadata": {},
   "source": [
    "Within `matplotlib`, `pyplot` is the module that is most commonly used to make graphs. It has a `Matlab`-feel to it."
   ]
  },
  {
   "cell_type": "code",
   "execution_count": 2,
   "metadata": {},
   "outputs": [],
   "source": [
    "import matplotlib.pyplot as plt\n",
    "plt.style.use('seaborn-v0_8-darkgrid')\n",
    "import numpy as np"
   ]
  },
  {
   "cell_type": "markdown",
   "metadata": {
    "slideshow": {
     "slide_type": "slide"
    }
   },
   "source": [
    "## Plotting with default settings"
   ]
  },
  {
   "cell_type": "code",
   "execution_count": null,
   "metadata": {
    "slideshow": {
     "slide_type": "-"
    }
   },
   "outputs": [],
   "source": [
    "x = np.linspace(-2*np.pi, 2*np.pi, 100)\n",
    "y1 = np.cos(x)\n",
    "y2 = np.sin(x)\n",
    "plt.plot(x,y1)\n",
    "plt.plot(x,y2)\n",
    "plt.show()"
   ]
  },
  {
   "cell_type": "markdown",
   "metadata": {
    "slideshow": {
     "slide_type": "slide"
    }
   },
   "source": [
    "## Changing colors, line widths, and line styles"
   ]
  },
  {
   "cell_type": "code",
   "execution_count": null,
   "metadata": {},
   "outputs": [],
   "source": [
    "plt.plot(x, y1, color=\"blue\", linewidth=2.5, linestyle=\"-\")\n",
    "plt.plot(x, y2, color=\"green\",  linewidth=5, linestyle=\"--\")\n",
    "plt.show()"
   ]
  },
  {
   "cell_type": "markdown",
   "metadata": {
    "slideshow": {
     "slide_type": "slide"
    }
   },
   "source": [
    "## Setting limits"
   ]
  },
  {
   "cell_type": "code",
   "execution_count": null,
   "metadata": {},
   "outputs": [],
   "source": [
    "plt.plot(x, y1, color=\"blue\", linewidth=2.5, linestyle=\"-\")\n",
    "plt.plot(x, y2, color=\"red\",  linewidth=2.5, linestyle=\"--\")\n",
    "plt.xlim([-10,10])\n",
    "plt.ylim([-2,2])\n",
    "plt.show()"
   ]
  },
  {
   "cell_type": "markdown",
   "metadata": {
    "slideshow": {
     "slide_type": "slide"
    }
   },
   "source": [
    "## Setting ticks"
   ]
  },
  {
   "cell_type": "code",
   "execution_count": null,
   "metadata": {},
   "outputs": [],
   "source": [
    "plt.plot(x, y1, color=\"blue\", linewidth=2.5, linestyle=\"-\")\n",
    "plt.plot(x, y2, color=\"red\",  linewidth=2.5, linestyle=\"--\")\n",
    "plt.xlim([-5,5]);plt.ylim([-2,2])\n",
    "plt.xticks([-np.pi,0,np.pi])\n",
    "plt.yticks([-1,-0.5,0,0.5,1])\n",
    "plt.show()"
   ]
  },
  {
   "cell_type": "markdown",
   "metadata": {
    "slideshow": {
     "slide_type": "slide"
    }
   },
   "source": [
    "## Setting tick labels"
   ]
  },
  {
   "cell_type": "code",
   "execution_count": null,
   "metadata": {},
   "outputs": [],
   "source": [
    "plt.plot(x, y1, color=\"blue\", linewidth=2.5, linestyle=\"-\")\n",
    "plt.plot(x, y2, color=\"red\",  linewidth=2.5, linestyle=\"--\")\n",
    "plt.xlim([-5,5]);plt.ylim([-1.5,1.5])\n",
    "plt.xticks([-np.pi,0,np.pi],[r'$-\\pi$',0,r'$\\pi$'],fontsize=20) #Latex inside of pyplot\n",
    "plt.yticks([-1,-0.5,0,0.5,1],fontsize=15)\n",
    "plt.show()"
   ]
  },
  {
   "cell_type": "markdown",
   "metadata": {
    "slideshow": {
     "slide_type": "slide"
    }
   },
   "source": [
    "## Moving spines"
   ]
  },
  {
   "cell_type": "code",
   "execution_count": null,
   "metadata": {},
   "outputs": [],
   "source": [
    "plt.plot(x, y1, color=\"blue\", linewidth=2.5, linestyle=\"-\")\n",
    "plt.plot(x, y2, color=\"red\",  linewidth=2.5, linestyle=\"--\")\n",
    "plt.xlim([-5,5]);plt.ylim([-1.5,1.5])\n",
    "plt.xticks([-np.pi,0,np.pi],[r'-$\\pi$',0,r'$\\pi$'],fontsize=20) #Latex inside of pyplot\n",
    "plt.yticks([-1,-0.5,0,0.5,1],fontsize=15)\n",
    "ax = plt.gca()  # gca stands for 'get current axis'\n",
    "ax.spines['right'].set_color('none')\n",
    "ax.spines['top'].set_color('none')\n",
    "ax.spines['bottom'].set_position(('data',0))\n",
    "ax.spines['left'].set_position(('data',0))\n",
    "plt.show()"
   ]
  },
  {
   "cell_type": "markdown",
   "metadata": {
    "slideshow": {
     "slide_type": "slide"
    }
   },
   "source": [
    "## Adding a legend"
   ]
  },
  {
   "cell_type": "code",
   "execution_count": null,
   "metadata": {},
   "outputs": [],
   "source": [
    "plt.xlim([-5,5]);plt.ylim([-1.5,1.5])\n",
    "plt.xticks([-np.pi,0,np.pi],[r'-$\\pi$',0,r'$\\pi$'],fontsize=20) #Latex inside of pyplot\n",
    "plt.yticks([-1,-0.5,0,0.5,1],fontsize=15)\n",
    "ax = plt.gca()  # gca stands for 'get current axis'\n",
    "ax.spines['right'].set_color('none')\n",
    "ax.spines['top'].set_color('none')\n",
    "ax.spines['bottom'].set_position(('data',0))\n",
    "ax.spines['left'].set_position(('data',0))\n",
    "plt.plot(x, y1, color=\"blue\", linewidth=2.5, linestyle=\"-\")\n",
    "plt.plot(x, y2, color=\"red\",  linewidth=2.5, linestyle=\"--\")\n",
    "plt.legend([r'$\\cos$','sin'],fontsize=10)\n",
    "plt.show()"
   ]
  },
  {
   "cell_type": "markdown",
   "metadata": {
    "slideshow": {
     "slide_type": "slide"
    }
   },
   "source": [
    "## Saving plot"
   ]
  },
  {
   "cell_type": "code",
   "execution_count": null,
   "metadata": {},
   "outputs": [],
   "source": [
    "plt.plot(x, y1, color=\"blue\", linewidth=2.5, linestyle=\"-\")\n",
    "plt.plot(x, y2, color=\"red\",  linewidth=2.5, linestyle=\"--\")\n",
    "plt.xlim([-5,5]);plt.ylim([-1.5,1.5])\n",
    "plt.xticks([-np.pi,0,np.pi],[r'-$\\pi$',0,r'$\\pi$'],fontsize=20) #Latex inside of pyplot\n",
    "plt.yticks([-1,-0.5,0,0.5,1],fontsize=15)\n",
    "ax = plt.gca()  # gca stands for 'get current axis'\n",
    "ax.spines['right'].set_color('none')\n",
    "ax.spines['top'].set_color('none')\n",
    "ax.spines['bottom'].set_position(('data',0))\n",
    "ax.spines['left'].set_position(('data',0))\n",
    "plt.legend([r'$\\cos(x)$',r'$\\sin(x)$'],fontsize=15)\n",
    "plt.savefig('../Workspace/test.png',transparent=True)\n",
    "plt.clf()"
   ]
  },
  {
   "cell_type": "markdown",
   "metadata": {
    "slideshow": {
     "slide_type": "slide"
    }
   },
   "source": [
    "## Figures, Subplots, Axes and Ticks"
   ]
  },
  {
   "cell_type": "markdown",
   "metadata": {},
   "source": [
    "* Up to this point, we have let pyplot create a default figure and associated axes. This is the fast way of exploring data but becomes limiting when we want to make presentation or publication quality figures. \n",
    "\n",
    "* Now we will explore how to more directly control the figure, subplots, and axes directly. \n",
    "\n",
    "* Subplot position the plots in a regular grid while axes allows any placement within the figure. Subplots are safer but axes give you more freedom (and its associated responsility...)."
   ]
  },
  {
   "cell_type": "markdown",
   "metadata": {
    "slideshow": {
     "slide_type": "slide"
    }
   },
   "source": [
    "## Figures (there are many more args...)"
   ]
  },
  {
   "cell_type": "code",
   "execution_count": null,
   "metadata": {},
   "outputs": [],
   "source": [
    "fig = plt.figure(figsize=(10,2)) #Note that there are many arguments that you can pass here\n",
    "plt.plot([3,4,5,])\n",
    "plt.show()"
   ]
  },
  {
   "cell_type": "code",
   "execution_count": null,
   "metadata": {},
   "outputs": [],
   "source": [
    "fig = plt.figure(figsize=(3,3)) #Note that there are many arguments that you can pass here\n",
    "plt.plot([3,4,5,])\n",
    "plt.show()"
   ]
  },
  {
   "cell_type": "markdown",
   "metadata": {
    "slideshow": {
     "slide_type": "slide"
    }
   },
   "source": [
    "## Subplots\n",
    "\n",
    "With subplots you can arrange plots in a rectangular grid. You have to specify the rows and columns that are taken up by each plot. "
   ]
  },
  {
   "cell_type": "code",
   "execution_count": null,
   "metadata": {
    "slideshow": {
     "slide_type": "-"
    },
    "tags": [
     "{",
     "\"tags\":",
     "[",
     "\"hide_input\"",
     "]",
     "}"
    ]
   },
   "outputs": [],
   "source": [
    "plt.figure(figsize=(8,8))\n",
    "plt.subplot(2,2,1)\n",
    "plt.plot(np.random.randn(10))\n",
    "plt.subplot(2,2,2)\n",
    "plt.plot(np.random.randn(10))\n",
    "plt.subplot(2,2,3)\n",
    "plt.plot(np.random.randn(10))\n",
    "plt.subplot(2,2,4)\n",
    "plt.plot(np.random.randn(10))\n",
    "plt.show()"
   ]
  },
  {
   "cell_type": "markdown",
   "metadata": {
    "slideshow": {
     "slide_type": "slide"
    }
   },
   "source": [
    "## Advanced subplots: Gridspec\n",
    "\n",
    "The gridspec module within matplotlib gives you a lot more control on the subplots. "
   ]
  },
  {
   "cell_type": "code",
   "execution_count": 14,
   "metadata": {},
   "outputs": [],
   "source": [
    "import matplotlib.gridspec as gridspec"
   ]
  },
  {
   "cell_type": "code",
   "execution_count": null,
   "metadata": {
    "slideshow": {
     "slide_type": "-"
    }
   },
   "outputs": [],
   "source": [
    "#Create the figure\n",
    "plt.figure(figsize=(10,5))\n",
    "#Define the grid spect\n",
    "G = gridspec.GridSpec(2,3)\n",
    "#Create the plots for each different section of the figure\n",
    "plt.subplot(G[:,0])\n",
    "plt.plot(np.random.randn(10))\n",
    "plt.subplot(G[0,1:])\n",
    "plt.plot(np.random.randn(10))\n",
    "plt.subplot(G[1,1])\n",
    "plt.plot(np.random.randn(10)) \n",
    "plt.subplot(G[1,2])\n",
    "plt.plot(np.random.randn(10))\n",
    "#Show the plot\n",
    "plt.show()"
   ]
  },
  {
   "cell_type": "markdown",
   "metadata": {
    "slideshow": {
     "slide_type": "slide"
    }
   },
   "source": [
    "## Axes\n",
    "\n",
    "Axes are very similar to subplots but allow placement of plots at any location.\n",
    "\n",
    "**With great power comes great responsibility!**"
   ]
  },
  {
   "cell_type": "code",
   "execution_count": null,
   "metadata": {
    "slideshow": {
     "slide_type": "-"
    }
   },
   "outputs": [],
   "source": [
    "#Define the first axis\n",
    "plt.axes([0, 0, 1, 1])\n",
    "plt.plot(np.linspace(0,1,10)/2)\n",
    "#Define the second axis\n",
    "plt.axes([0.07, 0.55, .4, .4])\n",
    "#Create a histogram from a randomly sampled distribution\n",
    "np.random.seed(1)\n",
    "plt.hist(np.random.randn(10000),density=1,bins=100)\n",
    "plt.show()"
   ]
  },
  {
   "cell_type": "markdown",
   "metadata": {
    "slideshow": {
     "slide_type": "slide"
    }
   },
   "source": [
    "Let's show what is possible now. The following examples are taken \"as is\" from http://scipy-lectures.org/intro/matplotlib/index.html."
   ]
  },
  {
   "cell_type": "markdown",
   "metadata": {
    "slideshow": {
     "slide_type": "slide"
    }
   },
   "source": [
    "## Plot and filled plots"
   ]
  },
  {
   "cell_type": "code",
   "execution_count": null,
   "metadata": {
    "slideshow": {
     "slide_type": "-"
    }
   },
   "outputs": [],
   "source": [
    "n = 256\n",
    "X = np.linspace(-np.pi, np.pi, n, endpoint=True)\n",
    "Y = np.sin(2 * X)\n",
    "plt.axes([0.025, 0.025, 0.95, 0.95])\n",
    "plt.plot(X, Y + 1, color='blue', alpha=1.00)\n",
    "plt.fill_between(X, 1, Y + 1, color='blue', alpha=.25)\n",
    "plt.plot(X, Y - 1, color='blue', alpha=1.00)\n",
    "plt.fill_between(X, -1, Y - 1, (Y - 1) > -1, color='blue', alpha=.25)\n",
    "plt.fill_between(X, -1, Y - 1, (Y - 1) < -1, color='red',  alpha=.25)\n",
    "plt.xlim(-np.pi, np.pi)\n",
    "plt.xticks(())\n",
    "plt.ylim(-2.5, 2.5)\n",
    "plt.yticks(())   \n",
    "plt.show()"
   ]
  },
  {
   "cell_type": "markdown",
   "metadata": {
    "slideshow": {
     "slide_type": "slide"
    }
   },
   "source": [
    "## Scatter plot"
   ]
  },
  {
   "cell_type": "code",
   "execution_count": null,
   "metadata": {},
   "outputs": [],
   "source": [
    "n = 1024\n",
    "X = np.random.normal(0, 1, n)\n",
    "Y = np.random.normal(0, 1, n)\n",
    "T = np.arctan2(Y, X)\n",
    "plt.axes([0.025, 0.025, 0.95, 0.95])\n",
    "plt.scatter(X, Y, s=75, c=T, alpha=0.1)\n",
    "plt.xlim(-1.5, 1.5)\n",
    "plt.xticks(())\n",
    "plt.ylim(-1.5, 1.5)\n",
    "plt.yticks(())\n",
    "plt.show()"
   ]
  },
  {
   "cell_type": "markdown",
   "metadata": {
    "slideshow": {
     "slide_type": "slide"
    }
   },
   "source": [
    "## Bar Plots"
   ]
  },
  {
   "cell_type": "code",
   "execution_count": null,
   "metadata": {},
   "outputs": [],
   "source": [
    "n = 12\n",
    "X = np.arange(n)\n",
    "Y1 = (1 - X / float(n)) * np.random.uniform(0.5, 1.0, n)\n",
    "Y2 = (1 - X / float(n)) * np.random.uniform(0.5, 1.0, n)\n",
    "plt.bar(X, +Y1, facecolor='#9999ff', edgecolor='white')\n",
    "plt.bar(X, -Y2, facecolor='#ff9999', edgecolor='white')\n",
    "for x, y in zip(X, Y1):\n",
    "    plt.text(x + 0.4, y + 0.05, '%.2f' % y, ha='center', va='bottom')\n",
    "plt.ylim(-1.25, +1.25)"
   ]
  },
  {
   "cell_type": "markdown",
   "metadata": {
    "slideshow": {
     "slide_type": "slide"
    }
   },
   "source": [
    "## Contour plot"
   ]
  },
  {
   "cell_type": "code",
   "execution_count": null,
   "metadata": {},
   "outputs": [],
   "source": [
    "def f(x, y):\n",
    "    return (1 - x / 2 + x ** 5 + y ** 3) * np.exp(-x ** 2 -y ** 2)\n",
    "\n",
    "n = 256\n",
    "x = np.linspace(-3, 3, n)\n",
    "y = np.linspace(-3, 3, n)\n",
    "X, Y = np.meshgrid(x, y)\n",
    "plt.contourf(X, Y, f(X, Y), 8, alpha=.75, cmap='jet')\n",
    "C = plt.contour(X, Y, f(X, Y), 8, colors='black')"
   ]
  },
  {
   "cell_type": "markdown",
   "metadata": {
    "slideshow": {
     "slide_type": "slide"
    }
   },
   "source": [
    "## Imshow: Plotting a 2d array"
   ]
  },
  {
   "cell_type": "code",
   "execution_count": null,
   "metadata": {},
   "outputs": [],
   "source": [
    "def f(x, y):\n",
    "    return (1 - x / 2 + x ** 5 + y ** 3 ) * np.exp(-x ** 2 - y ** 2)\n",
    "\n",
    "n = 10\n",
    "x = np.linspace(-3, 3, 4 * n)\n",
    "y = np.linspace(-3, 3, 3 * n)\n",
    "X, Y = np.meshgrid(x, y)\n",
    "Z = f(X, Y)\n",
    "plt.axes([0.025, 0.025, 0.95, 0.95])\n",
    "plt.imshow(Z, interpolation='nearest', cmap=plt.get_cmap('terrain'), origin='lower')\n",
    "plt.colorbar(shrink=.92)\n",
    "plt.xticks(())\n",
    "plt.yticks(())\n",
    "plt.show()"
   ]
  },
  {
   "cell_type": "markdown",
   "metadata": {
    "slideshow": {
     "slide_type": "slide"
    }
   },
   "source": [
    "## Pie charts"
   ]
  },
  {
   "cell_type": "code",
   "execution_count": null,
   "metadata": {},
   "outputs": [],
   "source": [
    "n = 20\n",
    "Z = np.ones(n)\n",
    "Z[-1] *= 2\n",
    "plt.axes([0.025, 0.025, 0.95, 0.95])\n",
    "plt.pie(Z, explode=Z*.05, colors = ['%f' % (i/float(n)) for i in range(n)])\n",
    "plt.axis('equal')\n",
    "plt.xticks(())\n",
    "plt.yticks()\n",
    "plt.show()"
   ]
  },
  {
   "cell_type": "markdown",
   "metadata": {
    "slideshow": {
     "slide_type": "slide"
    }
   },
   "source": [
    "## Histogram"
   ]
  },
  {
   "cell_type": "code",
   "execution_count": null,
   "metadata": {},
   "outputs": [],
   "source": [
    "np.random.seed(1)\n",
    "x = np.random.randn(10000)\n",
    "plt.hist(x, bins=50, density=1, facecolor='r', alpha=0.5)\n",
    "plt.xlabel('Values',fontsize=15)\n",
    "plt.ylabel('Probability',fontsize=15)\n",
    "plt.xticks(fontsize=12)\n",
    "plt.yticks(fontsize=12)\n",
    "plt.title('Standard normal distribution',fontsize=20)\n",
    "plt.text(1,0.35, r'$\\mu=0,\\ \\sigma=1$',fontsize=20)\n",
    "plt.show()"
   ]
  },
  {
   "cell_type": "markdown",
   "metadata": {
    "slideshow": {
     "slide_type": "slide"
    }
   },
   "source": [
    "## Environmental data\n",
    "\n",
    "Let's now explore some plots with actual environmental data. We will use the ERA-Interim data that we used last lecture."
   ]
  },
  {
   "cell_type": "markdown",
   "metadata": {
    "slideshow": {
     "slide_type": "slide"
    }
   },
   "source": [
    "## Comparing 2015 temperature at different sites\n",
    "\n",
    "Start off by defining the coordinates for three different sites"
   ]
  },
  {
   "cell_type": "code",
   "execution_count": 24,
   "metadata": {},
   "outputs": [],
   "source": [
    "sites = {'seattle':{'lat':47.6062,'lon':-122.3321},\n",
    "         'paris':{'lat':48.8566,'lon':2.3522},\n",
    "         'santiago':{'lat':-33.4489,'lon':-70.6693}}"
   ]
  },
  {
   "cell_type": "markdown",
   "metadata": {
    "slideshow": {
     "slide_type": "slide"
    }
   },
   "source": [
    "Let's now read in the metadata from the ERA-Interim file"
   ]
  },
  {
   "cell_type": "code",
   "execution_count": null,
   "metadata": {
    "slideshow": {
     "slide_type": "-"
    }
   },
   "outputs": [],
   "source": [
    "import netCDF4 as nc\n",
    "file = '../data/era-interim/era_interim_monthly_197901_201512_upscaled.nc'\n",
    "fp = nc.Dataset(file)\n",
    "lats = fp['lat'][:]\n",
    "lons = fp['lon'][:]\n",
    "times = fp['time']\n",
    "plt.pcolormesh(fp['t2m'][0,:,:])\n",
    "plt.show()"
   ]
  },
  {
   "cell_type": "markdown",
   "metadata": {
    "slideshow": {
     "slide_type": "slide"
    }
   },
   "source": [
    "Let's plot the lat and lon arrays:"
   ]
  },
  {
   "cell_type": "code",
   "execution_count": null,
   "metadata": {},
   "outputs": [],
   "source": [
    "plt.figure(figsize=(10,3))\n",
    "plt.subplot(121)\n",
    "plt.title('latitudes',fontsize=15)\n",
    "plt.plot(lats,lw=3)\n",
    "plt.subplot(122)\n",
    "plt.title('longitudes',fontsize=15)\n",
    "plt.plot(lons,lw=3)\n",
    "plt.show()"
   ]
  },
  {
   "cell_type": "markdown",
   "metadata": {
    "slideshow": {
     "slide_type": "slide"
    }
   },
   "source": [
    "Let's now compute the ilat/ilon for each of these sites and add it to the dictionary"
   ]
  },
  {
   "cell_type": "code",
   "execution_count": null,
   "metadata": {},
   "outputs": [],
   "source": [
    "#Look for the closest grid cell center for each site\n",
    "for site in sites:\n",
    "    lat = sites[site]['lat']\n",
    "    lon = sites[site]['lon']\n",
    "    if lon < 0:lon = 360 + lon\n",
    "    sites[site]['ilat'] = int(np.argmin(np.abs(lats - lat)))\n",
    "    sites[site]['ilon'] = int(np.argmin(np.abs(lons - lon)))\n",
    "print(sites)"
   ]
  },
  {
   "cell_type": "markdown",
   "metadata": {
    "slideshow": {
     "slide_type": "slide"
    }
   },
   "source": [
    "Read in the times as a datetime array"
   ]
  },
  {
   "cell_type": "code",
   "execution_count": null,
   "metadata": {
    "slideshow": {
     "slide_type": ""
    }
   },
   "outputs": [],
   "source": [
    "import datetime\n",
    "#Convert the dates to a datetime array\n",
    "dates = nc.num2date(times[:],units=times.units,calendar=times.calendar,only_use_cftime_datetimes=False)\n",
    "print(dates)"
   ]
  },
  {
   "cell_type": "markdown",
   "metadata": {
    "slideshow": {
     "slide_type": "slide"
    }
   },
   "source": [
    "Now we can extract the data for the variable `t2m`."
   ]
  },
  {
   "cell_type": "code",
   "execution_count": null,
   "metadata": {
    "slideshow": {
     "slide_type": "-"
    }
   },
   "outputs": [],
   "source": [
    "var = 't2m'\n",
    "#Iterate through all the sites\n",
    "for site in sites:\n",
    "    #Extract the data for the given site\n",
    "    ilat = sites[site]['ilat']\n",
    "    ilon = sites[site]['ilon']\n",
    "    sites[site][var] = fp[var][:,ilat,ilon]\n",
    "print(sites)"
   ]
  },
  {
   "cell_type": "markdown",
   "metadata": {
    "slideshow": {
     "slide_type": "slide"
    }
   },
   "source": [
    "Let's make a plot only for 2015"
   ]
  },
  {
   "cell_type": "code",
   "execution_count": null,
   "metadata": {
    "slideshow": {
     "slide_type": "-"
    }
   },
   "outputs": [],
   "source": [
    "#Calculate the Boolean mask for dates within 2015\n",
    "m = (dates >= datetime.datetime(2015,1,1)) & (dates <= datetime.datetime(2015,12,31))\n",
    "#Assemble the subsetted dates array\n",
    "dates_subset = dates[m]\n",
    "\n",
    "plt.figure(figsize=(10,7))\n",
    "plt.plot(dates_subset,sites['seattle']['t2m'][m],lw=7)\n",
    "plt.plot(dates_subset,sites['paris']['t2m'][m],lw=7)\n",
    "plt.plot(dates_subset,sites['santiago']['t2m'][m],lw=7)\n",
    "plt.xticks(fontsize=20,rotation=35)\n",
    "plt.yticks(fontsize=20,rotation=35)\n",
    "plt.xlabel('date',fontsize=30)\n",
    "plt.ylabel(r'$^o$C',fontsize=30)\n",
    "plt.grid('on')\n",
    "plt.legend(['Seattle','Paris','Santiago'],fontsize=25)\n",
    "plt.show()"
   ]
  },
  {
   "cell_type": "markdown",
   "metadata": {
    "slideshow": {
     "slide_type": "slide"
    }
   },
   "source": [
    "Let's create some scatter plots to compare the three sites"
   ]
  },
  {
   "cell_type": "code",
   "execution_count": null,
   "metadata": {},
   "outputs": [],
   "source": [
    "fig = plt.figure(figsize=(10,10))\n",
    "i = 0\n",
    "for site1 in sites:\n",
    "    for site2 in sites:\n",
    "        i = i + 1\n",
    "        plt.subplot(3,3,i)\n",
    "        plt.plot(sites[site1]['t2m'],sites[site2]['t2m'],'bo',alpha=0.2)\n",
    "        plt.plot(sites[site1]['t2m'],sites[site1]['t2m'],'r',lw=3)\n",
    "        plt.xticks(fontsize=15)\n",
    "        plt.yticks(fontsize=15)\n",
    "        plt.title('%s (x) vs %s (y)' % (site1,site2),fontsize=15)\n",
    "        if i in [7,8,9]:plt.xlabel(r'$^o$C',fontsize=20)\n",
    "        if i in [1,4,7]:plt.ylabel(r'$^o$C',fontsize=20)\n",
    "fig.tight_layout()\n",
    "plt.show()"
   ]
  },
  {
   "cell_type": "markdown",
   "metadata": {
    "slideshow": {
     "slide_type": "slide"
    }
   },
   "source": [
    "You could also use hexbins to show the same thing but prettier!"
   ]
  },
  {
   "cell_type": "code",
   "execution_count": null,
   "metadata": {
    "scrolled": true
   },
   "outputs": [],
   "source": [
    "fig = plt.figure(figsize=(10,10))\n",
    "i = 0\n",
    "for site1 in sites:\n",
    "    for site2 in sites:\n",
    "        i = i + 1\n",
    "        plt.subplot(3,3,i)\n",
    "        plt.hexbin(sites[site1]['t2m'],sites[site2]['t2m'],gridsize=10,cmap=plt.get_cmap('binary'))\n",
    "        plt.plot(sites[site1]['t2m'],sites[site1]['t2m'],'r',lw=3)\n",
    "        plt.xticks(fontsize=15)\n",
    "        plt.yticks(fontsize=15)\n",
    "        plt.title('%s (x) vs %s (y)' % (site1,site2),fontsize=15)\n",
    "        if i in [7,8,9]:plt.xlabel(r'$^o$C',fontsize=20)\n",
    "        if i in [1,4,7]:plt.ylabel(r'$^o$C',fontsize=20)\n",
    "fig.tight_layout()\n",
    "plt.show()"
   ]
  },
  {
   "cell_type": "markdown",
   "metadata": {
    "slideshow": {
     "slide_type": "slide"
    }
   },
   "source": [
    "# Let's look at making maps now"
   ]
  },
  {
   "cell_type": "markdown",
   "metadata": {
    "slideshow": {
     "slide_type": "slide"
    }
   },
   "source": [
    "We will start with the example from last lecture"
   ]
  },
  {
   "cell_type": "code",
   "execution_count": 33,
   "metadata": {},
   "outputs": [],
   "source": [
    "data = fp['t2m'][:]"
   ]
  },
  {
   "cell_type": "code",
   "execution_count": null,
   "metadata": {},
   "outputs": [],
   "source": [
    "plt.figure(figsize=(10,10))\n",
    "plt.imshow(np.flipud(data[-1,:,:]),cmap=plt.get_cmap('RdBu_r'))\n",
    "plt.axis('off')\n",
    "plt.title('ERA interim (%02d/%04d)' % (dates[-1].month,dates[-1].year),fontsize=20)\n",
    "cb = plt.colorbar(orientation='horizontal',shrink=0.8,pad=0.05)\n",
    "cb.ax.tick_params(labelsize=15)\n",
    "cb.set_label('Monthly temperature ($^o$C)',fontsize=20)\n",
    "plt.show()"
   ]
  },
  {
   "cell_type": "markdown",
   "metadata": {
    "slideshow": {
     "slide_type": "slide"
    }
   },
   "source": [
    "Let's now show a map for the annual average from 1979-2015 of each month."
   ]
  },
  {
   "cell_type": "code",
   "execution_count": null,
   "metadata": {},
   "outputs": [],
   "source": [
    "fig = plt.figure(figsize=(10,10))\n",
    "for month in range(1,13):\n",
    "    plt.subplot(4,3,month)\n",
    "    #Extract the data a given month for all years\n",
    "    tmp = data[month-1::12,:,:]\n",
    "    #Calculate the temporal mean of that data\n",
    "    tmp = np.mean(tmp,axis=0)\n",
    "    im = plt.imshow(np.flipud(tmp),cmap=plt.get_cmap('RdBu_r'))\n",
    "    plt.axis('off')\n",
    "    plt.title('Month: %d' % month,fontsize=20)\n",
    "#Let's place a colorbar\n",
    "cb_ax = fig.add_axes([0.92, 0.2, 0.03, 0.6])\n",
    "cb = fig.colorbar(im, cax=cb_ax)\n",
    "cb.ax.tick_params(labelsize=15)\n",
    "plt.show()"
   ]
  },
  {
   "cell_type": "markdown",
   "metadata": {
    "slideshow": {
     "slide_type": "slide"
    }
   },
   "source": [
    "We could do contours instead of showing every pixel value as well"
   ]
  },
  {
   "cell_type": "code",
   "execution_count": null,
   "metadata": {},
   "outputs": [],
   "source": [
    "plt.figure(figsize=(10,10))\n",
    "tmp = np.mean(data,axis=0)\n",
    "plt.contourf(tmp,levels=100,cmap=plt.get_cmap('RdBu_r'))\n",
    "plt.axis('off')\n",
    "plt.title('Annual average',fontsize=20)\n",
    "cb = plt.colorbar(orientation='horizontal',shrink=0.8,pad=0.05)\n",
    "cb.ax.tick_params(labelsize=15)\n",
    "cb.set_label('Monthly temperature ($^o$C)',fontsize=20)\n",
    "plt.show()"
   ]
  },
  {
   "cell_type": "markdown",
   "metadata": {
    "slideshow": {
     "slide_type": "slide"
    }
   },
   "source": [
    "## Colormaps\n",
    "\n",
    "We can quickly change the colormap that we use when we create a plot. The following list of colorbars come from [here](https://matplotlib.org/3.1.0/tutorials/colors/colormaps.html). If you are feeling adventerous you can create more yourself."
   ]
  },
  {
   "cell_type": "markdown",
   "metadata": {},
   "source": [
    "![image](https://matplotlib.org/3.1.0/_images/sphx_glr_colormaps_002.png)\n",
    "![image](https://matplotlib.org/3.1.0/_images/sphx_glr_colormaps_003.png)\n",
    "![image](https://matplotlib.org/3.1.0/_images/sphx_glr_colormaps_004.png)\n",
    "![image](https://matplotlib.org/3.1.0/_images/sphx_glr_colormaps_001.png)"
   ]
  },
  {
   "cell_type": "markdown",
   "metadata": {
    "slideshow": {
     "slide_type": "slide"
    }
   },
   "source": [
    "Let's explore some colormap examples"
   ]
  },
  {
   "cell_type": "code",
   "execution_count": null,
   "metadata": {},
   "outputs": [],
   "source": [
    "#Adding _r at the end, flips the colormap\n",
    "cmaps = ['RdBu_r','RdPu_r','Greens','binary_r','terrain','viridis']\n",
    "for cmap in cmaps:\n",
    " plt.figure(figsize=(10,10))\n",
    " tmp = np.mean(data,axis=0)\n",
    " #Pcolormesh is slower but gives you more control\n",
    " #We will prefer pcolormesh when we start projecting the data\n",
    " plt.pcolormesh(tmp,cmap=plt.get_cmap(cmap))\n",
    " plt.axis('off')\n",
    " plt.title(cmap,fontsize=25)\n",
    " cb = plt.colorbar(orientation='horizontal',shrink=0.8,pad=0.05)\n",
    " cb.ax.tick_params(labelsize=15)\n",
    " cb.set_label('Monthly temperature ($^o$C)',fontsize=20)\n",
    " plt.show()"
   ]
  },
  {
   "cell_type": "markdown",
   "metadata": {
    "slideshow": {
     "slide_type": "slide"
    }
   },
   "source": [
    "* Think of what you want to show and then figure out how to do it. \n",
    "* Google, tutorials, and these Jupyter Notebooks are your friends.\n",
    "* The only way to really learn this is to make plot after plot after plot...\n",
    "* You will find all things matplotlib [here](https://matplotlib.org)."
   ]
  }
 ],
 "metadata": {
  "celltoolbar": "Slideshow",
  "kernelspec": {
   "display_name": "geospatial",
   "language": "python",
   "name": "python3"
  },
  "language_info": {
   "codemirror_mode": {
    "name": "ipython",
    "version": 3
   },
   "file_extension": ".py",
   "mimetype": "text/x-python",
   "name": "python",
   "nbconvert_exporter": "python",
   "pygments_lexer": "ipython3",
   "version": "3.11.11"
  },
  "rise": "scroll"
 },
 "nbformat": 4,
 "nbformat_minor": 2
}
