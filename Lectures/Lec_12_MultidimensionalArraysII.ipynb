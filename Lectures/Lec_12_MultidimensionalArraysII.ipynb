{
 "cells": [
  {
   "cell_type": "markdown",
   "metadata": {
    "slideshow": {
     "slide_type": "slide"
    }
   },
   "source": [
    "# Geospatial Data Science - EEPS 440/460\n",
    "\n",
    "# Lecture 12\n",
    "\n",
    "# Multi-dimensional arrays II\n",
    "\n",
    "---"
   ]
  },
  {
   "cell_type": "markdown",
   "metadata": {
    "slideshow": {
     "slide_type": "slide"
    }
   },
   "source": [
    "## GDAL for everything? \n",
    "\n",
    "* GDAL is terrible when working with a time dimension.\n",
    "* There are multiple options (e.g., NetCDF Operators ([NCO](https://www.unidata.ucar.edu/blogs/news/entry/netcdf-operators-nco-version-427)) and Climate Data Operators [(CDO)](https://code.mpimet.mpg.de/projects/cdo))\n",
    "* CDO is an excellent option that we are going to explore"
   ]
  },
  {
   "cell_type": "markdown",
   "metadata": {
    "slideshow": {
     "slide_type": "slide"
    }
   },
   "source": [
    "## Situations where this problem matters \n",
    "\n",
    "* Comparing two different gridded datasets (e.g., climate model grids vs. observed grids)\n",
    "* Prepare data for input into an environmental model (e.g., hydrologic model)\n",
    "* Perform some basic statistical analysis (and save it!)"
   ]
  },
  {
   "cell_type": "markdown",
   "metadata": {
    "slideshow": {
     "slide_type": "slide"
    }
   },
   "source": [
    "## Typical issues that have to be addressed\n",
    "\n",
    "* Datasets to compare are at a different spatial resolution (e.g., 1 arcdegree vs. 0.1 arcdegree)\n",
    "* Datasets are in different map projections (e.g., latlon vs. equal area)\n",
    "* Datasets are at different temporal resolution (e.g., daily vs. annual)"
   ]
  },
  {
   "cell_type": "markdown",
   "metadata": {
    "slideshow": {
     "slide_type": "slide"
    }
   },
   "source": [
    "## Believe it or not...\n",
    "\n",
    "If you don't know what tools are out there, solving these issues can take up 90%+ of your research time (this is not an exaggeration!). If you use the right tools from the beginning, when you do the research you can focus on the science. Hence this course...\n",
    "\n",
    "Tools like CDO become critical at the data processing stage."
   ]
  },
  {
   "cell_type": "markdown",
   "metadata": {
    "slideshow": {
     "slide_type": "slide"
    }
   },
   "source": [
    "# Climate Data Operators (CDO)\n",
    "\n",
    "The Climate Data Operators (CDO) software is a collection of many operators for standard processing of climate and\n",
    "forecast model data. The operators include simple statistical and arithmetic functions, data selection and subsampling tools, and spatial interpolation. CDO was developed to have the same set of processing functions for GRIB [GRIB] and NetCDF [NetCDF] datasets in one package.\n",
    "\n",
    "Source: https://code.mpimet.mpg.de/projects/cdo/wiki/Tutorial"
   ]
  },
  {
   "cell_type": "markdown",
   "metadata": {
    "slideshow": {
     "slide_type": "slide"
    }
   },
   "source": [
    "I am going to show you some highlights of CDO. However, just like GDAL, there is much, much more to explore."
   ]
  },
  {
   "cell_type": "markdown",
   "metadata": {
    "slideshow": {
     "slide_type": "slide"
    }
   },
   "source": [
    "# Upscaling in space\n",
    "\n",
    "Let's upscale our ERA-interim database in space"
   ]
  },
  {
   "cell_type": "markdown",
   "metadata": {
    "slideshow": {
     "slide_type": "slide"
    }
   },
   "source": [
    "Let's remind ourselves what is in this dataset"
   ]
  },
  {
   "cell_type": "code",
   "execution_count": null,
   "metadata": {},
   "outputs": [],
   "source": [
    "%%bash\n",
    "cdo -showname ../data/era-interim/era_interim_monthly_197901_201512_upscaled.nc_ann"
   ]
  },
  {
   "cell_type": "markdown",
   "metadata": {
    "slideshow": {
     "slide_type": "slide"
    }
   },
   "source": [
    "Let's start by learning about the file's current projection information"
   ]
  },
  {
   "cell_type": "code",
   "execution_count": null,
   "metadata": {},
   "outputs": [],
   "source": [
    "%%bash\n",
    "cdo -griddes ../data/era-interim/era_interim_monthly_197901_201512_upscaled.nc_ann"
   ]
  },
  {
   "cell_type": "markdown",
   "metadata": {
    "slideshow": {
     "slide_type": "-"
    }
   },
   "source": [
    "What do we learn?\n",
    "\n",
    "* The data is in a regular lon/lat grid (PlateCarree)\n",
    "* There are 180 pixels along the latitude axis\n",
    "* There are 288 pixels along the longitude axis\n",
    "* The longitude of the first pixel on the longitude axis is 0.625\n",
    "* The latitude of the first pixel on the latitude axis is -89.5\n",
    "* The spatial resolution of the longitude axis is 0.625 arcdegree\n",
    "* The spatial resolution of the latitudes axis is 1.0 arcdegree"
   ]
  },
  {
   "cell_type": "markdown",
   "metadata": {
    "slideshow": {
     "slide_type": "slide"
    }
   },
   "source": [
    "If we read that into Python..."
   ]
  },
  {
   "cell_type": "code",
   "execution_count": null,
   "metadata": {},
   "outputs": [],
   "source": [
    "%matplotlib inline\n",
    "import netCDF4 as nc\n",
    "import matplotlib.pyplot as plt\n",
    "file = '../data/era-interim/era_interim_monthly_197901_201512_upscaled.nc_ann'\n",
    "fp = nc.Dataset(file)\n",
    "print('nlat: %d' % fp['lat'].size)\n",
    "print('nlon: %d' % fp['lon'].size)\n",
    "print('dlat: %f' % (fp['lat'][1]-fp['lat'][0]))\n",
    "print('dlon: %f' % (fp['lon'][1]-fp['lon'][0]))\n",
    "print('lat0: %f' % (fp['lat'][0]))\n",
    "print('lon0: %f' % (fp['lon'][0]))\n",
    "fp.close()"
   ]
  },
  {
   "cell_type": "markdown",
   "metadata": {
    "slideshow": {
     "slide_type": "slide"
    }
   },
   "source": [
    "I am given another dataset that is at 5.0 arcdegree spatial resolution in both the lat and lon direction. How can CDO help us?\n",
    "\n",
    "Let's define the information of the new grid to which we want to map our data"
   ]
  },
  {
   "cell_type": "code",
   "execution_count": null,
   "metadata": {},
   "outputs": [],
   "source": [
    "%%writefile ../Workspace/grid.cdo\n",
    "gridtype  = lonlat\n",
    "xsize     = 72\n",
    "ysize     = 36\n",
    "xname     = lon\n",
    "xlongname = \"longitude\" \n",
    "xunits    = \"degrees_east\" \n",
    "yname     = lat\n",
    "ylongname = \"latitude\" \n",
    "yunits    = \"degrees_north\" \n",
    "xfirst    = 2.5\n",
    "xinc      = 5.0\n",
    "yfirst    = -87.5\n",
    "yinc      = 5.0"
   ]
  },
  {
   "cell_type": "markdown",
   "metadata": {
    "slideshow": {
     "slide_type": "slide"
    }
   },
   "source": [
    "CDO then allows us to remap our data to this new grid information."
   ]
  },
  {
   "cell_type": "markdown",
   "metadata": {
    "slideshow": {
     "slide_type": "slide"
    }
   },
   "source": [
    "Let's try a nearest neighbor interpolation (there are many other options). We will only apply it to the t2m (temperature) and precip (precipitation) variables). "
   ]
  },
  {
   "cell_type": "code",
   "execution_count": null,
   "metadata": {},
   "outputs": [],
   "source": [
    "%%bash \n",
    "cdo -selname,t2m,precip -remapnn,../Workspace/grid.cdo ../data/era-interim/era_interim_monthly_197901_201512_upscaled.nc_ann ../Workspace/example.nc"
   ]
  },
  {
   "cell_type": "markdown",
   "metadata": {
    "slideshow": {
     "slide_type": "slide"
    }
   },
   "source": [
    "What did that just do?"
   ]
  },
  {
   "cell_type": "code",
   "execution_count": null,
   "metadata": {},
   "outputs": [],
   "source": [
    "%%bash \n",
    "cdo -showname ../Workspace/example.nc"
   ]
  },
  {
   "cell_type": "code",
   "execution_count": null,
   "metadata": {},
   "outputs": [],
   "source": [
    "%%bash \n",
    "cdo -griddes ../Workspace/example.nc"
   ]
  },
  {
   "cell_type": "markdown",
   "metadata": {
    "slideshow": {
     "slide_type": "slide"
    }
   },
   "source": [
    "Let's do a quick plot comparison of the original and new data"
   ]
  },
  {
   "cell_type": "code",
   "execution_count": null,
   "metadata": {},
   "outputs": [],
   "source": [
    "%matplotlib inline\n",
    "import netCDF4 as nc\n",
    "import numpy as np\n",
    "import matplotlib.pyplot as plt\n",
    "import cartopy\n",
    "\n",
    "#Extract first time step of each datasets\n",
    "file = '../data/era-interim/era_interim_monthly_197901_201512_upscaled.nc_ann'\n",
    "fp = nc.Dataset(file)\n",
    "dold = fp['t2m'][0,:,:]\n",
    "fp.close()\n",
    "file = '../Workspace/example.nc'\n",
    "fp = nc.Dataset(file)\n",
    "dnew = fp['t2m'][0,:,:]\n",
    "fp.close()\n",
    "\n",
    "#Make a side by side plot\n",
    "fig = plt.figure(figsize=(16,8))\n",
    "img_extent = (-180,180,-90,90)\n",
    "\n",
    "ax = plt.subplot(1,2,1,projection=cartopy.crs.Robinson())\n",
    "ax.imshow(dold,transform=cartopy.crs.PlateCarree(),cmap=plt.get_cmap('RdBu_r'),extent=(img_extent))\n",
    "plt.title('Original',fontsize=25)\n",
    "                              \n",
    "ax = plt.subplot(1,2,2,projection=cartopy.crs.Robinson())\n",
    "plt.title('Upscaled',fontsize=25)\n",
    "ax.imshow(dnew,transform=cartopy.crs.PlateCarree(),cmap=plt.get_cmap('RdBu_r'),extent=(img_extent))\n",
    "plt.show()\n"
   ]
  },
  {
   "cell_type": "markdown",
   "metadata": {
    "slideshow": {
     "slide_type": "slide"
    }
   },
   "source": [
    "# Reprojecting/Regridding in space using CDO\n",
    "\n",
    "Possibilities:\n",
    "\n",
    "* Reproject the entire database to other projections\n",
    "* Upscale or downscale in horizontal space\n",
    "* Extract subsets of the data\n",
    "* Use a multitude of interpolation schemes (nearest vs. average)\n",
    "* And many more"
   ]
  },
  {
   "cell_type": "markdown",
   "metadata": {
    "slideshow": {
     "slide_type": "slide"
    }
   },
   "source": [
    "# Temporal statistics"
   ]
  },
  {
   "cell_type": "markdown",
   "metadata": {},
   "source": [
    "Let's learn about the temporal information of our dataset"
   ]
  },
  {
   "cell_type": "code",
   "execution_count": null,
   "metadata": {
    "scrolled": true
   },
   "outputs": [],
   "source": [
    "%%bash\n",
    "cdo -sinfon ../data/era-interim/era_interim_monthly_197901_201512_upscaled.nc_ann"
   ]
  },
  {
   "cell_type": "markdown",
   "metadata": {
    "slideshow": {
     "slide_type": "slide"
    }
   },
   "source": [
    "Let's compute and save the time average"
   ]
  },
  {
   "cell_type": "code",
   "execution_count": null,
   "metadata": {},
   "outputs": [],
   "source": [
    "%%bash\n",
    "cdo -timmean ../data/era-interim/era_interim_monthly_197901_201512_upscaled.nc_ann ../Workspace/example.nc"
   ]
  },
  {
   "cell_type": "markdown",
   "metadata": {
    "slideshow": {
     "slide_type": "slide"
    }
   },
   "source": [
    "Let's look at the new file"
   ]
  },
  {
   "cell_type": "code",
   "execution_count": null,
   "metadata": {},
   "outputs": [],
   "source": [
    "%%bash\n",
    "cdo -sinfon ../Workspace/example.nc"
   ]
  },
  {
   "cell_type": "markdown",
   "metadata": {
    "slideshow": {
     "slide_type": "slide"
    }
   },
   "source": [
    "You can also do everything at once"
   ]
  },
  {
   "cell_type": "code",
   "execution_count": null,
   "metadata": {},
   "outputs": [],
   "source": [
    "%%bash\n",
    "cdo -timmean -selname,t2m,precip -remapnn,../Workspace/grid.cdo ../data/era-interim/era_interim_monthly_197901_201512_upscaled.nc_ann ../Workspace/example.nc"
   ]
  },
  {
   "cell_type": "markdown",
   "metadata": {
    "slideshow": {
     "slide_type": "slide"
    }
   },
   "source": [
    "Let's look at what we made"
   ]
  },
  {
   "cell_type": "code",
   "execution_count": null,
   "metadata": {},
   "outputs": [],
   "source": [
    "%%bash\n",
    "cdo -sinfon ../Workspace/example.nc"
   ]
  },
  {
   "cell_type": "markdown",
   "metadata": {
    "slideshow": {
     "slide_type": "slide"
    }
   },
   "source": [
    "We have not even scratched the surface of CDO. Want more information? \n",
    "\n",
    "Go here: https://code.mpimet.mpg.de/projects/cdo\n",
    "\n",
    "And definitely check out the CDO printable cheat sheet here: \n",
    "\n",
    "https://code.mpimet.mpg.de/projects/cdo/embedded/cdo_refcard.pdf\n",
    "\n",
    "The options are fairly endless..."
   ]
  },
  {
   "cell_type": "markdown",
   "metadata": {
    "slideshow": {
     "slide_type": "slide"
    }
   },
   "source": [
    "## Annoying aspects of using Python for spatial data (up until now):\n",
    "\n",
    "* Fairly involved to create a datetime array\n",
    "* Too many lines just to retrieve the data for a given location\n",
    "* Can be too involved just to do some basic plots\n",
    "* Awkward to extract data for a given time stamp\n",
    "* Main issue: Why should I use it for data exploration?"
   ]
  },
  {
   "cell_type": "markdown",
   "metadata": {
    "slideshow": {
     "slide_type": "slide"
    }
   },
   "source": [
    "Wouldn't it be nice if:\n",
    "\n",
    "* We could just call by a lat/lon pair instead of having to determine the indices?\n",
    "* We could use a time label to extract data for a time stamp (instead of using masks)?\n",
    "* We could upscale in time without having to write 30 lines of code?\n",
    "\n",
    "In other words, wouldn't it be nice if N-dimensional spatial data could be dealt with as we do with data in Pandas?\n",
    "\n",
    "Well, you are in luck..."
   ]
  },
  {
   "cell_type": "markdown",
   "metadata": {
    "slideshow": {
     "slide_type": "slide"
    }
   },
   "source": [
    "<img src=\"http://xarray.pydata.org/en/v0.10.0/_images/dataset-diagram-logo.png\" width=\"1000\">\n"
   ]
  },
  {
   "cell_type": "markdown",
   "metadata": {
    "slideshow": {
     "slide_type": "slide"
    }
   },
   "source": [
    "We are all tired of hearing me explain software packages so...\n",
    "\n",
    "Let's let one of the core developers of **xarray** do it instead. "
   ]
  },
  {
   "cell_type": "code",
   "execution_count": null,
   "metadata": {
    "slideshow": {
     "slide_type": "slide"
    }
   },
   "outputs": [],
   "source": [
    "%%html\n",
    "<iframe width=\"939\" height=\"528\" src=\"https://www.youtube.com/embed/X0pAhJgySxk\" frameborder=\"0\" allow=\"accelerometer; autoplay; encrypted-media; gyroscope; picture-in-picture\" allowfullscreen></iframe>"
   ]
  },
  {
   "cell_type": "markdown",
   "metadata": {
    "slideshow": {
     "slide_type": "slide"
    }
   },
   "source": [
    "## Let's explore xarray"
   ]
  },
  {
   "cell_type": "code",
   "execution_count": null,
   "metadata": {
    "slideshow": {
     "slide_type": "-"
    }
   },
   "outputs": [],
   "source": [
    "import xarray as xr\n",
    "\n",
    "#Open access to the monthly data and print the metadata\n",
    "file_era_interim = '../data/era-interim/era_interim_monthly_197901_201512_upscaled.nc'\n",
    "fp = xr.open_dataset(file_era_interim)"
   ]
  },
  {
   "cell_type": "markdown",
   "metadata": {
    "slideshow": {
     "slide_type": "slide"
    }
   },
   "source": [
    "One big difference is the metadata. No need for a ncdump -h to get a general idea of the data."
   ]
  },
  {
   "cell_type": "code",
   "execution_count": null,
   "metadata": {},
   "outputs": [],
   "source": [
    "print(fp)"
   ]
  },
  {
   "cell_type": "markdown",
   "metadata": {
    "slideshow": {
     "slide_type": "slide"
    }
   },
   "source": [
    "## You can get more information at the variable level"
   ]
  },
  {
   "cell_type": "code",
   "execution_count": null,
   "metadata": {},
   "outputs": [],
   "source": [
    "print(fp['t2m'])"
   ]
  },
  {
   "cell_type": "markdown",
   "metadata": {
    "slideshow": {
     "slide_type": "slide"
    }
   },
   "source": [
    "## Sampling data from Houston: Revisited"
   ]
  },
  {
   "cell_type": "code",
   "execution_count": null,
   "metadata": {},
   "outputs": [],
   "source": [
    "#Geographic coordinates for Houston\n",
    "lat = 29.717154\n",
    "lon = 360 -95.4041  # considering greenwich as lon 0\n",
    "#Extract the data\n",
    "data = fp['t2m'].sel(lat=lat,lon=lon,method='nearest')\n",
    "#Print the metadata\n",
    "print(data)"
   ]
  },
  {
   "cell_type": "markdown",
   "metadata": {
    "slideshow": {
     "slide_type": "slide"
    }
   },
   "source": [
    "## Making plots is incredibly easy"
   ]
  },
  {
   "cell_type": "code",
   "execution_count": null,
   "metadata": {
    "slideshow": {
     "slide_type": "slide"
    }
   },
   "outputs": [],
   "source": [
    "#It evens makes plots much easier\n",
    "import matplotlib.pyplot as plt\n",
    "\n",
    "plt.figure(figsize=(13,6))\n",
    "data.plot()\n",
    "plt.show()"
   ]
  },
  {
   "cell_type": "markdown",
   "metadata": {
    "slideshow": {
     "slide_type": "slide"
    }
   },
   "source": [
    "## Upscale to annual time step"
   ]
  },
  {
   "cell_type": "code",
   "execution_count": null,
   "metadata": {
    "slideshow": {
     "slide_type": "-"
    }
   },
   "outputs": [],
   "source": [
    "#We can quickly upscale to an annual time step and make the plot\n",
    "plt.figure(figsize=(13,6))\n",
    "data.groupby('time.year').mean('time').plot(lw=3)\n",
    "plt.show()"
   ]
  },
  {
   "cell_type": "markdown",
   "metadata": {
    "slideshow": {
     "slide_type": "slide"
    }
   },
   "source": [
    "## Compute and plot the monthly climatology"
   ]
  },
  {
   "cell_type": "code",
   "execution_count": null,
   "metadata": {
    "slideshow": {
     "slide_type": "-"
    }
   },
   "outputs": [],
   "source": [
    "plt.figure(figsize=(13,6))\n",
    "data.groupby('time.month').mean('time').plot(lw=3)\n",
    "plt.show()"
   ]
  },
  {
   "cell_type": "markdown",
   "metadata": {
    "slideshow": {
     "slide_type": "slide"
    }
   },
   "source": [
    "## Plot the histogram"
   ]
  },
  {
   "cell_type": "code",
   "execution_count": null,
   "metadata": {
    "slideshow": {
     "slide_type": "-"
    }
   },
   "outputs": [],
   "source": [
    "plt.figure(figsize=(13,6))\n",
    "data.plot.hist(bins=20)\n",
    "plt.show()"
   ]
  },
  {
   "cell_type": "markdown",
   "metadata": {
    "slideshow": {
     "slide_type": "slide"
    }
   },
   "source": [
    "## Subset via labels"
   ]
  },
  {
   "cell_type": "code",
   "execution_count": null,
   "metadata": {
    "slideshow": {
     "slide_type": "-"
    }
   },
   "outputs": [],
   "source": [
    "plt.figure(figsize=(10,6))\n",
    "data.loc[slice('1979','1985')].plot(lw=4)"
   ]
  },
  {
   "cell_type": "markdown",
   "metadata": {
    "slideshow": {
     "slide_type": "slide"
    }
   },
   "source": [
    "## Subset the data in space and time (but with labels!)"
   ]
  },
  {
   "cell_type": "code",
   "execution_count": null,
   "metadata": {
    "slideshow": {
     "slide_type": "-"
    }
   },
   "outputs": [],
   "source": [
    "#We can directly subset the larger dataset for a given region\n",
    "data = fp['t2m'].sel(time=slice('1979','1990'),lat=slice(20,60),lon=slice(220,310))\n",
    "print(data)"
   ]
  },
  {
   "cell_type": "markdown",
   "metadata": {
    "slideshow": {
     "slide_type": "slide"
    }
   },
   "source": [
    "## Make a quick spatial plot of the climatological mean"
   ]
  },
  {
   "cell_type": "code",
   "execution_count": null,
   "metadata": {
    "slideshow": {
     "slide_type": "-"
    }
   },
   "outputs": [],
   "source": [
    "plt.figure(figsize=(14,6))\n",
    "data.mean('time').plot.imshow()\n",
    "plt.show()"
   ]
  },
  {
   "cell_type": "markdown",
   "metadata": {
    "slideshow": {
     "slide_type": "slide"
    }
   },
   "source": [
    "## Add in Cartopy"
   ]
  },
  {
   "cell_type": "code",
   "execution_count": null,
   "metadata": {
    "slideshow": {
     "slide_type": "-"
    }
   },
   "outputs": [],
   "source": [
    "import matplotlib.pyplot as plt\n",
    "import cartopy\n",
    "\n",
    "plt.figure(figsize=(15,8))\n",
    "ax = plt.subplot(projection=cartopy.crs.AlbersEqualArea(standard_parallels=(20,50),\n",
    "                                                        central_longitude=260,\n",
    "                                                        central_latitude=45))\n",
    "data.mean('time').plot.pcolormesh(transform=cartopy.crs.PlateCarree(),add_colorbar=True)\n",
    "\n",
    "# Use existing cartopy shapefiles\n",
    "ax.add_feature(cartopy.feature.COASTLINE)\n",
    "ax.add_feature(cartopy.feature.BORDERS)\n",
    "ax.add_feature(cartopy.feature.STATES)\n",
    "plt.show()"
   ]
  },
  {
   "cell_type": "markdown",
   "metadata": {
    "slideshow": {
     "slide_type": "slide"
    }
   },
   "source": [
    "## Computing temporal statistics"
   ]
  },
  {
   "cell_type": "code",
   "execution_count": null,
   "metadata": {},
   "outputs": [],
   "source": [
    "plt.figure(figsize=(15,8))\n",
    "\n",
    "ax = plt.subplot(projection=cartopy.crs.AlbersEqualArea(standard_parallels=(20,50),\n",
    "                                                        central_longitude=260,\n",
    "                                                        central_latitude=45))\n",
    "\n",
    "data.std('time').plot.pcolormesh(transform=cartopy.crs.PlateCarree(),add_colorbar=True)\n",
    "\n",
    "ax.add_feature(cartopy.feature.COASTLINE)\n",
    "ax.add_feature(cartopy.feature.BORDERS)\n",
    "ax.add_feature(cartopy.feature.STATES)\n",
    "\n",
    "plt.title(r'Standard deviation ($^o$C)',fontsize=20)\n",
    "plt.show()"
   ]
  },
  {
   "cell_type": "markdown",
   "metadata": {
    "slideshow": {
     "slide_type": "slide"
    }
   },
   "source": [
    "## We can always just treat them as numpy arrays as well"
   ]
  },
  {
   "cell_type": "code",
   "execution_count": null,
   "metadata": {},
   "outputs": [],
   "source": [
    "import numpy as np\n",
    "tmp = np.mean(data,axis=0)\n",
    "plt.figure(figsize=(16,8))\n",
    "plt.imshow(np.flipud(tmp))\n",
    "plt.show()"
   ]
  },
  {
   "cell_type": "markdown",
   "metadata": {
    "slideshow": {
     "slide_type": "slide"
    }
   },
   "source": [
    "## Writing data made incredibly easy"
   ]
  },
  {
   "cell_type": "code",
   "execution_count": null,
   "metadata": {},
   "outputs": [],
   "source": [
    "data.to_netcdf('../Workspace/test.nc')"
   ]
  },
  {
   "cell_type": "code",
   "execution_count": null,
   "metadata": {},
   "outputs": [],
   "source": [
    "%%bash\n",
    "ncdump -h ../Workspace/test.nc"
   ]
  },
  {
   "cell_type": "markdown",
   "metadata": {
    "slideshow": {
     "slide_type": "slide"
    }
   },
   "source": [
    "# Accesing data online via xarray\n",
    "### ERA5 Reanalysis from google cloud storage"
   ]
  },
  {
   "cell_type": "code",
   "execution_count": null,
   "metadata": {},
   "outputs": [],
   "source": [
    "%%html\n",
    "<iframe width=\"939\" height=\"528\" src=\"https://github.com/google-research/arco-era5\" frameborder=\"0\" allow=\"accelerometer;  autoplay; encrypted-media; gyroscope; picture-in-picture\" allowfullscreen></iframe>"
   ]
  },
  {
   "cell_type": "code",
   "execution_count": null,
   "metadata": {},
   "outputs": [],
   "source": [
    "import xarray as xr\n",
    "ds = xr.open_zarr(\n",
    "    'gs://gcp-public-data-arco-era5/ar/full_37-1h-0p25deg-chunk-1.zarr-v3',\n",
    "    chunks=None,\n",
    "    storage_options=dict(token='anon'),\n",
    ")"
   ]
  },
  {
   "cell_type": "code",
   "execution_count": null,
   "metadata": {},
   "outputs": [],
   "source": [
    "print(ds)"
   ]
  },
  {
   "cell_type": "code",
   "execution_count": null,
   "metadata": {},
   "outputs": [],
   "source": [
    "print(ds.time)"
   ]
  },
  {
   "cell_type": "code",
   "execution_count": null,
   "metadata": {},
   "outputs": [],
   "source": [
    "data = ds.sel(time=slice(ds.attrs['valid_time_start'], ds.attrs['valid_time_stop']))\n",
    "print(data)"
   ]
  },
  {
   "cell_type": "code",
   "execution_count": null,
   "metadata": {},
   "outputs": [],
   "source": [
    "var_list = list(data.variables.keys())\n",
    "print('Number of variables:', len(var_list))"
   ]
  },
  {
   "cell_type": "code",
   "execution_count": null,
   "metadata": {},
   "outputs": [],
   "source": [
    "for a in var_list: print(a)"
   ]
  },
  {
   "cell_type": "code",
   "execution_count": null,
   "metadata": {},
   "outputs": [],
   "source": [
    "%matplotlib inline\n",
    "import matplotlib.pyplot as plt\n",
    "#Plot the temperature for the first time step of the simulation\n",
    "data['2m_temperature'][0,:,:].plot()\n",
    "plt.show()"
   ]
  },
  {
   "cell_type": "code",
   "execution_count": null,
   "metadata": {},
   "outputs": [],
   "source": [
    "#We could also subset a single variable for the area and period that we want\n",
    "temp_data = data['2m_temperature'].sel(time=slice('2021-11-29T22:00:00.000000000T00:00:00.000000000', '2021-11-30T22:00:00.000000000'),\n",
    "                                latitude=slice(55,25),\n",
    "                                longitude=slice(-110+360,-70+360))\n",
    "print(temp_data.shape)\n",
    "temp_data[0,:,:].plot()\n",
    "plt.show()"
   ]
  },
  {
   "cell_type": "code",
   "execution_count": null,
   "metadata": {},
   "outputs": [],
   "source": [
    "#Let's save this data locally\n",
    "temp_data.to_netcdf('../Workspace/era5_2m_temperature.nc')"
   ]
  },
  {
   "cell_type": "code",
   "execution_count": null,
   "metadata": {},
   "outputs": [],
   "source": [
    "#We could also download multiple variables at once\n",
    "vars = ['2m_temperature','evaporation','volumetric_soil_water_layer_1']\n",
    "#We could also subset a single variable for the area that we want\n",
    "sample = data[vars].sel(time=slice('2020-09-24T00:00:00.000000000', '2020-09-24T03:00:00.000000000'),\n",
    "                        latitude=slice(55,25),\n",
    "                        longitude=slice(360-110,360-70))\n",
    "sample['volumetric_soil_water_layer_1'][0,:,:].plot()\n",
    "plt.show()\n",
    "print(sample)"
   ]
  },
  {
   "cell_type": "markdown",
   "metadata": {},
   "source": [
    "Lets save the data in zarr now"
   ]
  },
  {
   "cell_type": "code",
   "execution_count": null,
   "metadata": {},
   "outputs": [],
   "source": [
    "%%bash\n",
    "#clean up potential previous files\n",
    "rm -rf ../Workspace/sample.zarr"
   ]
  },
  {
   "cell_type": "code",
   "execution_count": null,
   "metadata": {},
   "outputs": [],
   "source": [
    "#Save the data in Zarr\n",
    "sample.to_zarr('../Workspace/sample.zarr')"
   ]
  },
  {
   "cell_type": "markdown",
   "metadata": {
    "slideshow": {
     "slide_type": "slide"
    }
   },
   "source": [
    "## Learn xarray\n",
    "\n",
    "There are sooooo much powerful capabilities in xarray\n",
    "\n",
    "Resources? Start here: http://xarray.pydata.org/en/stable/"
   ]
  },
  {
   "cell_type": "markdown",
   "metadata": {
    "slideshow": {
     "slide_type": "slide"
    }
   },
   "source": [
    "## Word of caution\n",
    "\n",
    "* Xarray is very powerful and you should definitely use it.\n",
    "* However, note that the easier a software package makes things, (in most cases) the less control we have.\n",
    "* There are many circumstances where xarray could be limiting (probably not in this course though).\n",
    "* It is good to know what is happening under the hood so you dig deeper when necessary."
   ]
  },
  {
   "cell_type": "markdown",
   "metadata": {
    "slideshow": {
     "slide_type": "slide"
    }
   },
   "source": [
    "# Too many options?\n",
    "\n",
    "* Presented with a lot of packages and tools that do similar things.\n",
    "* Which ones you use and how you combine them is a personal choice.\n",
    "* I am just presenting many good options that will help you solve your current/future research question."
   ]
  }
 ],
 "metadata": {
  "celltoolbar": "Slideshow",
  "kernelspec": {
   "display_name": "geospatial",
   "language": "python",
   "name": "python3"
  },
  "language_info": {
   "codemirror_mode": {
    "name": "ipython",
    "version": 3
   },
   "file_extension": ".py",
   "mimetype": "text/x-python",
   "name": "python",
   "nbconvert_exporter": "python",
   "pygments_lexer": "ipython3",
   "version": "3.11.11"
  },
  "rise": "scroll"
 },
 "nbformat": 4,
 "nbformat_minor": 2
}
