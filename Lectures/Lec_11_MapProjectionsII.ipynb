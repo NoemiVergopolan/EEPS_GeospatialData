{
 "cells": [
  {
   "cell_type": "markdown",
   "metadata": {
    "slideshow": {
     "slide_type": "slide"
    }
   },
   "source": [
    "# Geospatial Data Science - EEPS 440/460\n",
    "\n",
    "# Lecture 11\n",
    "\n",
    "# Map Projections II"
   ]
  },
  {
   "cell_type": "markdown",
   "metadata": {
    "slideshow": {
     "slide_type": "slide"
    }
   },
   "source": [
    "# PROJ\n",
    "\n",
    "PROJ is a generic coordinate transformation software that transforms geospatial coordinates from one coordinate reference system (CRS) to another. This includes cartographic projections as well as geodetic transformations.\n",
    "\n",
    "Source: https://proj.org/"
   ]
  },
  {
   "cell_type": "code",
   "execution_count": null,
   "metadata": {},
   "outputs": [],
   "source": [
    "%%html\n",
    "<iframe width=\"939\" height=\"528\" src=\"https://en.wikibooks.org/wiki/PROJ.4\" frameborder=\"0\" allow=\"accelerometer;  autoplay; encrypted-media; gyroscope; picture-in-picture\" allowfullscreen></iframe> "
   ]
  },
  {
   "cell_type": "markdown",
   "metadata": {
    "slideshow": {
     "slide_type": "slide"
    }
   },
   "source": [
    "# EPSG Geodetic Parameter Registry\n",
    "\n",
    "The EPSG Geodetic Parameter Dataset is a database of of global, regional, national, or local map projections. It helps us avoid defining all the parameters of a map projection."
   ]
  },
  {
   "cell_type": "code",
   "execution_count": null,
   "metadata": {},
   "outputs": [],
   "source": [
    "%%html\n",
    "<iframe width=\"939\" height=\"528\" src=\"https://spatialreference.org/ref/epsg/\" frameborder=\"0\" allow=\"accelerometer;  autoplay; encrypted-media; gyroscope; picture-in-picture\" allowfullscreen></iframe>"
   ]
  },
  {
   "cell_type": "markdown",
   "metadata": {
    "slideshow": {
     "slide_type": "slide"
    }
   },
   "source": [
    "## Let's look at some examples of projections and their EPSG and PROJ codes"
   ]
  },
  {
   "cell_type": "markdown",
   "metadata": {},
   "source": [
    "#### Regular lat/lon grid (Plate Carree)\n",
    "* EPSG:4326\n",
    "* +proj=longlat +ellps=WGS84 +datum=WGS84 +no_defs \n",
    "\n",
    "#### CONUS Albers equal area\n",
    "* EPSG:5070\n",
    "* +proj=aea +lat_1=29.5 +lat_2=45.5 +lat_0=23 +lon_0=-96 +x_0=0 +y_0=0 +ellps=GRS80 +towgs84=0,0,0,0,0,0,0 +units=m +no_defs "
   ]
  },
  {
   "cell_type": "markdown",
   "metadata": {
    "slideshow": {
     "slide_type": "slide"
    }
   },
   "source": [
    "# We are now ready for GDAL"
   ]
  },
  {
   "cell_type": "markdown",
   "metadata": {
    "slideshow": {
     "slide_type": "slide"
    }
   },
   "source": [
    "<img src=\"https://upload.wikimedia.org/wikipedia/commons/thumb/d/df/GDALLogoColor.svg/2000px-GDALLogoColor.svg.png\" width=\"500\">"
   ]
  },
  {
   "cell_type": "markdown",
   "metadata": {
    "slideshow": {
     "slide_type": "slide"
    }
   },
   "source": [
    "### GDAL stands for Geospatial Data Abstraction Library"
   ]
  },
  {
   "cell_type": "markdown",
   "metadata": {
    "slideshow": {
     "slide_type": "slide"
    }
   },
   "source": [
    "GDAL is a C++ translator library for more than 200 raster and vector geospatial data formats. It is released under an X/MIT style Open Source license by the Open Source Geospatial Foundation. As a library, it presents a single raster abstract data model and single vector abstract data model to the calling application for all supported formats. It also comes with a variety of useful command line utilities for data translation and processing. It offers an API for a variety of languages such as C, C++, Python, Perl, C# and Java.\n",
    "\n",
    "Source: https://www.osgeo.org/projects/gdal"
   ]
  },
  {
   "cell_type": "markdown",
   "metadata": {
    "slideshow": {
     "slide_type": "slide"
    }
   },
   "source": [
    "Its core features include: \n",
    "    \n",
    "* Reading and writing of raster and vector geospatial formats\n",
    "* Data format translation\n",
    "* Geospatial processing: subsetting, image warping, reprojection, mosaicing, tiling, DEM processing\n",
    "* If all that you are using a GIS software package is for changing file formats, subsetting data, changing the spatial resolution, or reprojecting data, GDAL will let you accomplish all those tasks in a fraction of the time (and on any computing platform!)"
   ]
  },
  {
   "cell_type": "markdown",
   "metadata": {
    "slideshow": {
     "slide_type": "slide"
    }
   },
   "source": [
    "# Which raster formats does GDAL support?"
   ]
  },
  {
   "cell_type": "code",
   "execution_count": null,
   "metadata": {},
   "outputs": [],
   "source": [
    "%%html\n",
    "<iframe width=\"939\" height=\"528\" src=\"https://gdal.org/drivers/raster/index.html\" frameborder=\"0\" allow=\"accelerometer;  autoplay; encrypted-media; gyroscope; picture-in-picture\" allowfullscreen></iframe>"
   ]
  },
  {
   "cell_type": "markdown",
   "metadata": {
    "slideshow": {
     "slide_type": "slide"
    }
   },
   "source": [
    "# What other software relies on GDAL?"
   ]
  },
  {
   "cell_type": "code",
   "execution_count": null,
   "metadata": {},
   "outputs": [],
   "source": [
    "%%html\n",
    "<iframe width=\"939\" height=\"528\" src=\"https://gdal.org/software_using_gdal.html#software-using-gdal\" frameborder=\"0\" allow=\"accelerometer;  autoplay; encrypted-media; gyroscope; picture-in-picture\" allowfullscreen></iframe>"
   ]
  },
  {
   "cell_type": "markdown",
   "metadata": {
    "slideshow": {
     "slide_type": "slide"
    }
   },
   "source": [
    "## What about rasterio?\n",
    "\n",
    "It is just a wrapper around Python's GDAL library that makes interacting with raster data more straightforward and \"Pythonic\"."
   ]
  },
  {
   "cell_type": "markdown",
   "metadata": {
    "slideshow": {
     "slide_type": "slide"
    }
   },
   "source": [
    "# So let's get started...\n",
    "\n",
    "* The real power of GDAL is in the C++ library. However, we are going to be using primarily the command line (i.e., terminal) tools. \n",
    "\n",
    "* GDAL integrates the PROJ software library, making map projections straightforward from GDAL itself.\n",
    "\n",
    "* Remember that we can access the terminal (via Bash) from another tab in Jupyter Lab or we can just include Bash code within our Jupyter notebook\n",
    "\n",
    "* To ensure everyone can reproduce this lecture (and for your assignments) we will be using the Jupyter Notebook approach. "
   ]
  },
  {
   "cell_type": "markdown",
   "metadata": {
    "slideshow": {
     "slide_type": "slide"
    }
   },
   "source": [
    "# GDAL command line tools"
   ]
  },
  {
   "cell_type": "code",
   "execution_count": null,
   "metadata": {},
   "outputs": [],
   "source": [
    "%%html\n",
    "<iframe width=\"939\" height=\"528\" src=\"https://gdal.org/programs/index.html#raster-programs\" frameborder=\"0\" allow=\"accelerometer;  autoplay; encrypted-media; gyroscope; picture-in-picture\" allowfullscreen></iframe>"
   ]
  },
  {
   "cell_type": "markdown",
   "metadata": {
    "slideshow": {
     "slide_type": "slide"
    }
   },
   "source": [
    "# Let's explore gdal command line tools using the data from HW#1"
   ]
  },
  {
   "cell_type": "code",
   "execution_count": null,
   "metadata": {},
   "outputs": [],
   "source": [
    "%matplotlib inline\n",
    "import rasterio\n",
    "import matplotlib.pyplot as plt\n",
    "file = '../data/NED/dem_lat3536_lon-80-79.tif'"
   ]
  },
  {
   "cell_type": "code",
   "execution_count": null,
   "metadata": {},
   "outputs": [],
   "source": [
    "#Let's create a function that reads in the file and creates a map\n",
    "import numpy as np\n",
    "def create_figure(file):\n",
    "    #Define a file pointer\n",
    "    fp = rasterio.open(file)\n",
    "    #Read in the data\n",
    "    dem = fp.read(1)\n",
    "    #Create the figure\n",
    "    fig = plt.figure(figsize=(10,10))\n",
    "    #ax = plt.axes(projection=crs)\n",
    "    #Mask out the nodata value\n",
    "    dem = np.ma.masked_array(dem,dem==fp.nodata)\n",
    "    #Note that for simplicity I am just doing a plain imshow (you could use Carto)\n",
    "    plt.imshow(dem,cmap=plt.get_cmap('terrain'))\n",
    "    #Now lets add a colorbar\n",
    "    cb = plt.colorbar(orientation='horizontal',shrink=0.75,pad=0.03)\n",
    "    cb.ax.tick_params(labelsize=20)\n",
    "    #Remove ticks\n",
    "    plt.xticks([])\n",
    "    plt.yticks([])\n",
    "    #And a title\n",
    "    plt.title('Elevation (m)',fontsize=25)\n",
    "    #Close the file pointer\n",
    "    fp.close()\n",
    "    #Show the plot\n",
    "    plt.show()"
   ]
  },
  {
   "cell_type": "code",
   "execution_count": null,
   "metadata": {},
   "outputs": [],
   "source": [
    "create_figure(file)"
   ]
  },
  {
   "cell_type": "markdown",
   "metadata": {
    "slideshow": {
     "slide_type": "slide"
    }
   },
   "source": [
    "# gdalinfo\n",
    "\n",
    "Purpose: Learning about our data"
   ]
  },
  {
   "cell_type": "code",
   "execution_count": null,
   "metadata": {},
   "outputs": [],
   "source": [
    "%%bash\n",
    "gdalinfo ../data/NED/dem_lat3536_lon-80-79.tif"
   ]
  },
  {
   "cell_type": "markdown",
   "metadata": {
    "slideshow": {
     "slide_type": "slide"
    }
   },
   "source": [
    "# gdalinfo"
   ]
  },
  {
   "cell_type": "code",
   "execution_count": null,
   "metadata": {
    "scrolled": true
   },
   "outputs": [],
   "source": [
    "%%html\n",
    "<iframe width=\"939\" height=\"528\" src=\"https://gdal.org/programs/gdalinfo.html#gdalinfo\" frameborder=\"0\" allow=\"accelerometer;  autoplay; encrypted-media; gyroscope; picture-in-picture\" allowfullscreen></iframe>"
   ]
  },
  {
   "cell_type": "markdown",
   "metadata": {
    "slideshow": {
     "slide_type": "slide"
    }
   },
   "source": [
    "# More complex gdalinfo call"
   ]
  },
  {
   "cell_type": "code",
   "execution_count": null,
   "metadata": {},
   "outputs": [],
   "source": [
    "%%bash\n",
    "gdalinfo -stats -proj4 ../data/NED/dem_lat3536_lon-80-79.tif\n",
    "#Let's remove the auxiliary file that was created\n",
    "rm ../data/NED/dem_lat3536_lon-80-79.tif.aux.xml"
   ]
  },
  {
   "cell_type": "markdown",
   "metadata": {
    "slideshow": {
     "slide_type": "slide"
    }
   },
   "source": [
    "# gdal_translate\n",
    "\n",
    "Purpose: Convert between raster formats"
   ]
  },
  {
   "cell_type": "code",
   "execution_count": null,
   "metadata": {
    "slideshow": {
     "slide_type": "-"
    }
   },
   "outputs": [],
   "source": [
    "%%bash\n",
    "gdal_translate -of AAIGrid ../data/NED/dem_lat3536_lon-80-79.tif ../Workspace/test.arcascii\n",
    "#Use gdalinfo to see what it created\n",
    "gdalinfo ../Workspace/test.arcascii"
   ]
  },
  {
   "cell_type": "code",
   "execution_count": null,
   "metadata": {
    "slideshow": {
     "slide_type": "slide"
    }
   },
   "outputs": [],
   "source": [
    "%%bash \n",
    "#Another example\n",
    "gdal_translate -of NetCDF ../Workspace/test.arcascii ../Workspace/test.nc\n",
    "#Use gdalinfo to see what it created\n",
    "gdalinfo ../Workspace/test.nc"
   ]
  },
  {
   "cell_type": "markdown",
   "metadata": {},
   "source": [
    "Let's see what that file looks like in netcdf"
   ]
  },
  {
   "cell_type": "code",
   "execution_count": null,
   "metadata": {
    "scrolled": false
   },
   "outputs": [],
   "source": [
    "%%bash \n",
    "ncdump -h ../Workspace/test.nc"
   ]
  },
  {
   "cell_type": "markdown",
   "metadata": {
    "slideshow": {
     "slide_type": "slide"
    }
   },
   "source": [
    "# gdal_translate"
   ]
  },
  {
   "cell_type": "code",
   "execution_count": null,
   "metadata": {
    "scrolled": true
   },
   "outputs": [],
   "source": [
    "%%html\n",
    "<iframe width=\"939\" height=\"528\" src=\"https://gdal.org/programs/gdal_translate.html\" frameborder=\"0\" allow=\"accelerometer;  autoplay; encrypted-media; gyroscope; picture-in-picture\" allowfullscreen></iframe>"
   ]
  },
  {
   "cell_type": "markdown",
   "metadata": {
    "slideshow": {
     "slide_type": "slide"
    }
   },
   "source": [
    "# gdalwarp\n",
    "\n",
    "Purpose: Image reprojection and warping utility"
   ]
  },
  {
   "cell_type": "markdown",
   "metadata": {
    "slideshow": {
     "slide_type": "slide"
    }
   },
   "source": [
    "## Example 1: Change spatial resolution"
   ]
  },
  {
   "cell_type": "code",
   "execution_count": null,
   "metadata": {
    "scrolled": true
   },
   "outputs": [],
   "source": [
    "%%bash \n",
    "gdalwarp -r average -overwrite -tr 0.1 0.1 ../data/NED/dem_lat3536_lon-80-79.tif ../Workspace/test.tif\n",
    "#Use gdalinfo to see what it created\n",
    "gdalinfo ../Workspace/test.tif"
   ]
  },
  {
   "cell_type": "code",
   "execution_count": null,
   "metadata": {},
   "outputs": [],
   "source": [
    "file = '../Workspace/test.tif'\n",
    "#Create the figure\n",
    "create_figure(file)"
   ]
  },
  {
   "cell_type": "markdown",
   "metadata": {
    "slideshow": {
     "slide_type": "slide"
    }
   },
   "source": [
    "## Example 2: Subset the data"
   ]
  },
  {
   "cell_type": "code",
   "execution_count": null,
   "metadata": {},
   "outputs": [],
   "source": [
    "%%bash \n",
    "gdalwarp -overwrite -te -79.65 35.25 -79.35 35.55 ../data/NED/dem_lat3536_lon-80-79.tif ../Workspace/test.tif\n",
    "#Use gdalinfo to see what it created\n",
    "gdalinfo ../Workspace/test.tif"
   ]
  },
  {
   "cell_type": "code",
   "execution_count": null,
   "metadata": {},
   "outputs": [],
   "source": [
    "file = '../Workspace/test.tif'\n",
    "#Create the figure\n",
    "create_figure(file)"
   ]
  },
  {
   "cell_type": "markdown",
   "metadata": {
    "slideshow": {
     "slide_type": "slide"
    }
   },
   "source": [
    "## Example 3: Reproject to Global Mollweide"
   ]
  },
  {
   "cell_type": "code",
   "execution_count": null,
   "metadata": {},
   "outputs": [],
   "source": [
    "%%bash \n",
    "#Mollweide projection\n",
    "gdalwarp -r average -tr 30 30 -overwrite -t_srs '+proj=moll +lon_0=0 +x_0=0 +y_0=0 +datum=WGS84 +units=m +no_defs' ../data/NED/dem_lat3536_lon-80-79.tif ../Workspace/example.tif\n",
    "#Use gdalinfo to see what it created\n",
    "gdalinfo ../Workspace/example.tif"
   ]
  },
  {
   "cell_type": "code",
   "execution_count": null,
   "metadata": {},
   "outputs": [],
   "source": [
    "#Let's read that data back in to Python and make the plot we made before\n",
    "file = '../Workspace/example.tif'\n",
    "#Create the figure\n",
    "create_figure(file)"
   ]
  },
  {
   "cell_type": "markdown",
   "metadata": {},
   "source": [
    "And that is what a map projection distortion looks like! \n",
    "\n",
    "<img src=\"https://upload.wikimedia.org/wikipedia/commons/thumb/3/3f/Mollweide_with_Tissot%27s_Indicatrices_of_Distortion.svg/2560px-Mollweide_with_Tissot%27s_Indicatrices_of_Distortion.svg.png\" width=\"700\">\n"
   ]
  },
  {
   "cell_type": "markdown",
   "metadata": {
    "slideshow": {
     "slide_type": "slide"
    }
   },
   "source": [
    "## Example 4: Reproject to local Mollweide"
   ]
  },
  {
   "cell_type": "code",
   "execution_count": null,
   "metadata": {},
   "outputs": [],
   "source": [
    "%%bash \n",
    "#Mollweide projection\n",
    "gdalwarp -r average -overwrite -t_srs '+proj=moll +lon_0=-79.5 +x_0=0 +y_0=0 +datum=WGS84 +units=m +no_defs' ../data/NED/dem_lat3536_lon-80-79.tif ../Workspace/example.tif\n",
    "#Use gdalinfo to see what it created\n",
    "gdalinfo ../Workspace/example.tif"
   ]
  },
  {
   "cell_type": "code",
   "execution_count": null,
   "metadata": {},
   "outputs": [],
   "source": [
    "#Let's read that data back in to Python and make the plot we made before\n",
    "file = '../Workspace/example.tif'\n",
    "#Create the figure\n",
    "create_figure(file)"
   ]
  },
  {
   "cell_type": "markdown",
   "metadata": {},
   "source": [
    "Localized projection? Distortion is minimized!"
   ]
  },
  {
   "cell_type": "markdown",
   "metadata": {
    "slideshow": {
     "slide_type": "slide"
    }
   },
   "source": [
    "## Example 5: Reproject to a generalized albers conic equal area"
   ]
  },
  {
   "cell_type": "code",
   "execution_count": null,
   "metadata": {},
   "outputs": [],
   "source": [
    "%%bash \n",
    "#Localized albers conic equal area\n",
    "gdalwarp -r average -overwrite -t_srs '+proj=aea +lat_1=20 +lat_2=50 +lat_0=0 +lon_0=0 +x_0=0 +y_0=0 +ellps=WGS84 +datum=NAD83' ../data/NED/dem_lat3536_lon-80-79.tif ../Workspace/example.tif\n",
    "#Use gdalinfo to see what it created\n",
    "gdalinfo ../Workspace/example.tif"
   ]
  },
  {
   "cell_type": "code",
   "execution_count": null,
   "metadata": {},
   "outputs": [],
   "source": [
    "file = '../Workspace/example.tif'\n",
    "#Create the figure\n",
    "create_figure(file)"
   ]
  },
  {
   "cell_type": "markdown",
   "metadata": {},
   "source": [
    "<img src=\"https://upload.wikimedia.org/wikipedia/commons/thumb/9/98/Albers_with_Tissot%27s_Indicatrices_of_Distortion.svg/2880px-Albers_with_Tissot%27s_Indicatrices_of_Distortion.svg.png\" width=\"700\">\n"
   ]
  },
  {
   "cell_type": "markdown",
   "metadata": {
    "slideshow": {
     "slide_type": "slide"
    }
   },
   "source": [
    "## Example 6: Reproject to a localized albers conic equal area"
   ]
  },
  {
   "cell_type": "code",
   "execution_count": null,
   "metadata": {},
   "outputs": [],
   "source": [
    "%%bash \n",
    "#Localized albers conic equal area\n",
    "gdalwarp -r average -overwrite -t_srs '+proj=aea +lat_1=35 +lat_2=36 +lat_0=35.5 +lon_0=-79.5 +x_0=0 +y_0=0 +ellps=WGS84 +datum=NAD83' ../data/NED/dem_lat3536_lon-80-79.tif ../Workspace/example.tif\n",
    "#Use gdalinfo to see what it created\n",
    "gdalinfo ../Workspace/example.tif"
   ]
  },
  {
   "cell_type": "code",
   "execution_count": null,
   "metadata": {
    "slideshow": {
     "slide_type": "-"
    }
   },
   "outputs": [],
   "source": [
    "file = '../Workspace/example.tif'\n",
    "#Create the figure\n",
    "create_figure(file)"
   ]
  },
  {
   "cell_type": "markdown",
   "metadata": {
    "slideshow": {
     "slide_type": "slide"
    }
   },
   "source": [
    "# What can we actually do in gdalwarp?"
   ]
  },
  {
   "cell_type": "code",
   "execution_count": null,
   "metadata": {},
   "outputs": [],
   "source": [
    "%%html\n",
    "<iframe width=\"939\" height=\"528\" src=\"https://gdal.org/programs/gdalwarp.html\" frameborder=\"0\" allow=\"accelerometer;  autoplay; encrypted-media; gyroscope; picture-in-picture\" allowfullscreen></iframe>"
   ]
  },
  {
   "cell_type": "markdown",
   "metadata": {
    "slideshow": {
     "slide_type": "slide"
    }
   },
   "source": [
    "### But how do we work with very large datasets that are split into tiles?\n",
    "\n",
    "Let's look at the example of the US National Elevation Dataset (NED) at 1 arcsec resolution. \n",
    "\n",
    "<img src=\"https://prd-wret.s3-us-west-2.amazonaws.com/assets/palladium/production/s3fs-public/styles/full_width/public/thumbnails/image/NED%2C%20US.gif\" width=\"500\">"
   ]
  },
  {
   "cell_type": "markdown",
   "metadata": {},
   "source": [
    "This is actually the same database that you used in HW1 to parse files"
   ]
  },
  {
   "cell_type": "code",
   "execution_count": null,
   "metadata": {},
   "outputs": [],
   "source": [
    "%%bash \n",
    "#Move to the directory\n",
    "cd ../data/NED\n",
    "#List all the files\n",
    "ls\n",
    "#Count the number of files\n",
    "ls -la | wc -l\n",
    "#Determine the size of the folder\n",
    "du -h ../NED\n"
   ]
  },
  {
   "cell_type": "markdown",
   "metadata": {},
   "source": [
    "Let's say that I want to extract all the elevation data from NED at a 10 arcsec spatial resolution over a bounding box that encompasses the Appalachian mountains in North Carolina. What would you do?"
   ]
  },
  {
   "cell_type": "markdown",
   "metadata": {
    "slideshow": {
     "slide_type": "slide"
    }
   },
   "source": [
    "# Virtual rasters"
   ]
  },
  {
   "cell_type": "code",
   "execution_count": null,
   "metadata": {
    "scrolled": false
   },
   "outputs": [],
   "source": [
    "%%html\n",
    "<iframe width=\"939\" height=\"528\" src=\"https://gdal.org/drivers/raster/vrt.html\" frameborder=\"0\" allow=\"accelerometer;  autoplay; encrypted-media; gyroscope; picture-in-picture\" allowfullscreen></iframe>"
   ]
  },
  {
   "cell_type": "markdown",
   "metadata": {},
   "source": [
    "Long story short, it is a text file that glues all the single tiles files together to make one \"virtual\" raster file."
   ]
  },
  {
   "cell_type": "markdown",
   "metadata": {
    "slideshow": {
     "slide_type": "slide"
    }
   },
   "source": [
    "I have already created a virtual raster for NED so let's use `gdalinfo` on it"
   ]
  },
  {
   "cell_type": "code",
   "execution_count": null,
   "metadata": {},
   "outputs": [],
   "source": [
    "%%bash\n",
    "gdalinfo ../data/NED/NED.vrt"
   ]
  },
  {
   "cell_type": "markdown",
   "metadata": {},
   "source": [
    "In other words, it is a file that allows us to interpret all the tiled files as a single one."
   ]
  },
  {
   "cell_type": "markdown",
   "metadata": {
    "slideshow": {
     "slide_type": "slide"
    }
   },
   "source": [
    "# Working with virtual rasters\n",
    "\n",
    "Let's try our example of extracting elevation data over the Appalachian mountains in NC at a 1 arcsec (i.e., 0.00277777777 arcdegree) spatial resolution."
   ]
  },
  {
   "cell_type": "code",
   "execution_count": null,
   "metadata": {},
   "outputs": [],
   "source": [
    "%%bash \n",
    "#Extract the desired region (-te), define a new resolution (-tr), \n",
    "#define the resampling method (-r), and overwrite an exiting file (-overwrite)\n",
    "gdalwarp -te -85 34 -80 37 -tr 0.00277777777 0.00277777777 -r near -overwrite ../data/NED/NED.vrt ../Workspace/example.tif\n",
    "#Use gdalinfo to see what it created\n",
    "gdalinfo ../Workspace/example.tif"
   ]
  },
  {
   "cell_type": "code",
   "execution_count": null,
   "metadata": {},
   "outputs": [],
   "source": [
    "#Let's read that file in and create a map\n",
    "file = '../Workspace/example.tif'\n",
    "#Create the figure\n",
    "create_figure(file)"
   ]
  },
  {
   "cell_type": "markdown",
   "metadata": {
    "slideshow": {
     "slide_type": "slide"
    }
   },
   "source": [
    "## Let's do some simply analysis with this data"
   ]
  },
  {
   "cell_type": "code",
   "execution_count": null,
   "metadata": {},
   "outputs": [],
   "source": [
    "#Define a file pointer\n",
    "fp = rasterio.open(file)\n",
    "#Read in the data\n",
    "dem = fp.read(1)\n",
    "#Mask out the nodata value\n",
    "dem = np.ma.masked_array(dem,dem==fp.nodata)\n",
    "#Initialize figure\n",
    "plt.figure(figsize=(10,6))\n",
    "#Let's plot the histogram\n",
    "plt.subplot(2,2,1)\n",
    "plt.hist(dem.reshape(dem.size),density=1,bins=100)\n",
    "plt.title('Elevation (m)',fontsize=20)\n",
    "plt.xticks(fontsize=14,rotation=25)\n",
    "plt.yticks(fontsize=14)\n",
    "#Let's plot the elevation average from north to south\n",
    "plt.subplot(2,2,2)\n",
    "plt.title('Elevation average (N to S)',fontsize=20)\n",
    "plt.plot(np.mean(dem,axis=1),lw=3)\n",
    "plt.yticks(fontsize=14)\n",
    "plt.xticks([])\n",
    "#Let's plot the elevation average from west to east\n",
    "plt.subplot(2,2,3)\n",
    "plt.title('Elevation average (W to E)',fontsize=20)\n",
    "plt.plot(np.mean(dem,axis=0),lw=3)\n",
    "plt.yticks(fontsize=14)\n",
    "plt.xticks([])\n",
    "#Let's plot the diagonal of the data\n",
    "plt.subplot(2,2,4)\n",
    "plt.title('Diagonal of elevation (NW to SE)',fontsize=20)\n",
    "plt.yticks(fontsize=14)\n",
    "plt.xticks([])\n",
    "plt.plot(np.diag(dem))\n",
    "#Close the file pointer\n",
    "fp.close()\n",
    "plt.tight_layout()\n",
    "#Show the plot\n",
    "plt.show()"
   ]
  },
  {
   "cell_type": "markdown",
   "metadata": {
    "slideshow": {
     "slide_type": "slide"
    }
   },
   "source": [
    "* We just created a viable way to subset and work with a GB to TB dataset in a matter of minutes\n",
    "\n",
    "* Any ideas of how we could then work with the entire dataset (while still keeping things tractable)?"
   ]
  },
  {
   "cell_type": "markdown",
   "metadata": {
    "slideshow": {
     "slide_type": "fragment"
    }
   },
   "source": [
    "* Divide and conquer - Divide a large task (analyze the US) into smaller tasks (analyze 1/100 of the US).\n",
    "* Iterate per region and perform calculations\n",
    "* If available use High Performance Computing (HPC) and distribute the tasks to 100 cores. \n",
    "* But never read in 240 GB into memory. First because you can't, but even if you could it would be a waste. "
   ]
  },
  {
   "cell_type": "markdown",
   "metadata": {
    "slideshow": {
     "slide_type": "slide"
    }
   },
   "source": [
    "# Use GDAL\n",
    "\n",
    "* GDAL should be your go-to from now on when you need to subset, reproject, upscale, or reformat a 2D raster dataset.\n",
    "* It gives you inmense flexibility\n",
    "* And more importantly, it will save you hours upon hours of work. "
   ]
  },
  {
   "cell_type": "markdown",
   "metadata": {},
   "source": [
    "There is much more to learn about GDAL. Here are some resources:\n",
    "* https://github.com/dwtkns/gdal-cheat-sheet\n",
    "* https://medium.com/planet-stories/a-gentle-introduction-to-gdal-part-1-a3253eb96082\n",
    "* https://gdal.org/"
   ]
  },
  {
   "cell_type": "markdown",
   "metadata": {
    "slideshow": {
     "slide_type": "slide"
    }
   },
   "source": [
    "# But what about 3D+ data? \n",
    "\n",
    "* GDAL is actually terrible when working with a time dimension.\n",
    "* Next class I will cover the CDO (climate data operators) software package. \n",
    "* CDO is the go-to when working regularly gridded time-varying data. \n",
    "* Key: GDAL still wins with 2D data."
   ]
  },
  {
   "cell_type": "markdown",
   "metadata": {},
   "source": []
  }
 ],
 "metadata": {
  "celltoolbar": "Slideshow",
  "kernelspec": {
   "display_name": "geospatial",
   "language": "python",
   "name": "python3"
  },
  "language_info": {
   "codemirror_mode": {
    "name": "ipython",
    "version": 3
   },
   "file_extension": ".py",
   "mimetype": "text/x-python",
   "name": "python",
   "nbconvert_exporter": "python",
   "pygments_lexer": "ipython3",
   "version": "3.11.11"
  },
  "rise": "scroll"
 },
 "nbformat": 4,
 "nbformat_minor": 2
}
